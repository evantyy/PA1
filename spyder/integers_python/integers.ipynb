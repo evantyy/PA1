{
 "cells": [
  {
   "cell_type": "markdown",
   "id": "460a0256",
   "metadata": {},
   "source": [
    "# My solution\n",
    "## This is to print **1 to 10** in a *loop*\n",
    "\n",
    "1. Comment 1\n",
    "2. Comment 2"
   ]
  },
  {
   "cell_type": "code",
   "execution_count": 1,
   "id": "5568ca6c",
   "metadata": {},
   "outputs": [
    {
     "name": "stdout",
     "output_type": "stream",
     "text": [
      "1\n",
      "2\n",
      "3\n",
      "4\n",
      "5\n",
      "6\n",
      "7\n",
      "8\n",
      "9\n",
      "10\n",
      "that's all\n"
     ]
    }
   ],
   "source": [
    "for i in range(1,11):\n",
    "    print(i)\n",
    "print(\"that's all\")"
   ]
  },
  {
   "cell_type": "code",
   "execution_count": null,
   "id": "eaec4117",
   "metadata": {},
   "outputs": [],
   "source": []
  }
 ],
 "metadata": {
  "kernelspec": {
   "display_name": "Python 3 (ipykernel)",
   "language": "python",
   "name": "python3"
  },
  "language_info": {
   "codemirror_mode": {
    "name": "ipython",
    "version": 3
   },
   "file_extension": ".py",
   "mimetype": "text/x-python",
   "name": "python",
   "nbconvert_exporter": "python",
   "pygments_lexer": "ipython3",
   "version": "3.8.8"
  }
 },
 "nbformat": 4,
 "nbformat_minor": 5
}
